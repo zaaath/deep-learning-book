{
 "cells": [
  {
   "cell_type": "markdown",
   "id": "7b66da2f-1a46-4471-b6f2-8f6ddb48e4cf",
   "metadata": {},
   "source": [
    "## Eigenvalues and Eigenvectors"
   ]
  },
  {
   "cell_type": "code",
   "execution_count": 1,
   "id": "e4de1120-1210-4c83-80aa-c50056f65c32",
   "metadata": {},
   "outputs": [],
   "source": [
    "%%capture\n",
    "!pip install numpy"
   ]
  },
  {
   "cell_type": "code",
   "execution_count": 11,
   "id": "ff5220f8-01e6-45c9-b19d-c6b41699cf12",
   "metadata": {},
   "outputs": [
    {
     "name": "stdout",
     "output_type": "stream",
     "text": [
      "eigenvalues: [5.]\n",
      "eigenvectors: [[1.]]\n"
     ]
    }
   ],
   "source": [
    "import numpy as np\n",
    "\n",
    "A = np.array([[5]])\n",
    "eigenvalues, eigenvectors = np.linalg.eig(A)\n",
    "\n",
    "assert eigenvalues == [A[0, 0]]\n",
    "assert eigenvectors == np.eye(1) == [[1]]\n",
    "\n",
    "print('eigenvalues:', eigenvalues)\n",
    "print('eigenvectors:', eigenvectors)"
   ]
  },
  {
   "cell_type": "code",
   "execution_count": 34,
   "id": "6747b90a-4b04-4437-94f2-8c800db2b452",
   "metadata": {},
   "outputs": [
    {
     "name": "stdout",
     "output_type": "stream",
     "text": [
      "1 : A @ v =  [3.53553391 3.53553391]\n",
      "1 : λ * v =  [3.53553391 3.53553391]\n",
      "2 : A @ v =  [-0.89442719  1.78885438]\n",
      "2 : λ * v =  [-0.89442719  1.78885438]\n"
     ]
    }
   ],
   "source": [
    "import numpy as np\n",
    "\n",
    "A = np.array([[4, 1], [2, 3]])\n",
    "eigenvalues, eigenvectors = np.linalg.eig(A)\n",
    "\n",
    "for i in range(len(eigenvectors)):\n",
    "    v = eigenvectors[:, i]\n",
    "    λ = eigenvalues[i]\n",
    "    \n",
    "    print(i + 1, ': A @ v = ', A @ v)\n",
    "    print(i + 1, ': λ * v = ', λ * v)\n",
    "\n",
    "    assert np.allclose(A @ v, λ * v)"
   ]
  },
  {
   "cell_type": "code",
   "execution_count": null,
   "id": "2823bf97-0f6e-42f1-adc5-ca33c4d804be",
   "metadata": {},
   "outputs": [],
   "source": [
    "# TODO:\n",
    "#  - Check the above eigenvalues and eigenvectors for various properties (Q: What are they?)\n",
    "#  - Visualize eigenvalues and eigenvectors in 3D spaces"
   ]
  }
 ],
 "metadata": {
  "kernelspec": {
   "display_name": "Python 3 (ipykernel)",
   "language": "python",
   "name": "python3"
  },
  "language_info": {
   "codemirror_mode": {
    "name": "ipython",
    "version": 3
   },
   "file_extension": ".py",
   "mimetype": "text/x-python",
   "name": "python",
   "nbconvert_exporter": "python",
   "pygments_lexer": "ipython3",
   "version": "3.8.18"
  }
 },
 "nbformat": 4,
 "nbformat_minor": 5
}
