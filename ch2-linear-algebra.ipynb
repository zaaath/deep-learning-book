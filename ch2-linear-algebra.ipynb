{
 "cells": [
  {
   "cell_type": "code",
   "execution_count": 1,
   "id": "e4de1120-1210-4c83-80aa-c50056f65c32",
   "metadata": {},
   "outputs": [],
   "source": [
    "%%capture\n",
    "!pip install numpy"
   ]
  },
  {
   "cell_type": "code",
   "execution_count": 3,
   "id": "e906a3ac-6de7-4d0f-9592-4c50bcf4fd03",
   "metadata": {},
   "outputs": [],
   "source": [
    "import numpy as np"
   ]
  },
  {
   "cell_type": "markdown",
   "id": "c952f28e-7288-4121-b8eb-3b23b22a30fb",
   "metadata": {},
   "source": [
    "## Vectors and Matrices"
   ]
  },
  {
   "cell_type": "code",
   "execution_count": 8,
   "id": "1fa4e471-d579-4175-a84b-00dbae31d6d6",
   "metadata": {},
   "outputs": [
    {
     "name": "stdout",
     "output_type": "stream",
     "text": [
      "All Tests Passed.\n"
     ]
    }
   ],
   "source": [
    "# Symmetric matrices\n",
    "S2x2 = np.array([\n",
    "    [1, 2],\n",
    "    [2, 3]\n",
    "])\n",
    "S3x3 = np.array([\n",
    "    [4, 5, 6],\n",
    "    [5, 7, 8],\n",
    "    [6, 8, 9]\n",
    "])\n",
    "S4x4 = np.array([\n",
    "    [0, 1, 2, 3],\n",
    "    [1, 4, 5, 6],\n",
    "    [2, 5, 7, 8],\n",
    "    [3, 6, 8, 9]\n",
    "])\n",
    "\n",
    "assert np.all(S2x2 == S2x2.T)\n",
    "assert np.all(S3x3 == S3x3.T)\n",
    "assert np.all(S4x4 == S4x4.T)\n",
    "print('All Tests Passed.')"
   ]
  },
  {
   "cell_type": "markdown",
   "id": "7b66da2f-1a46-4471-b6f2-8f6ddb48e4cf",
   "metadata": {},
   "source": [
    "## Eigendecomposition"
   ]
  },
  {
   "cell_type": "code",
   "execution_count": 10,
   "id": "ff5220f8-01e6-45c9-b19d-c6b41699cf12",
   "metadata": {},
   "outputs": [
    {
     "name": "stdout",
     "output_type": "stream",
     "text": [
      "All Tests Passed.\n"
     ]
    }
   ],
   "source": [
    "# 1x1 matrix\n",
    "A1x1 = np.array([[5]])\n",
    "eigenvalues, eigenvectors = np.linalg.eig(A1x1)\n",
    "\n",
    "assert eigenvalues == [A1x1[0, 0]]\n",
    "assert eigenvectors == np.eye(1) == [[1]]\n",
    "print('All Tests Passed.')"
   ]
  },
  {
   "cell_type": "code",
   "execution_count": 17,
   "id": "ae5588e8-01de-470e-b559-ba0dcfb8fa35",
   "metadata": {},
   "outputs": [
    {
     "name": "stdout",
     "output_type": "stream",
     "text": [
      "All Tests Passed.\n"
     ]
    }
   ],
   "source": [
    "# Rotational matrix (complex eigenvalues)\n",
    "A_rotate = np.array([\n",
    "    [0, -1],\n",
    "    [1, 0]\n",
    "])\n",
    "eigenvalues, eigenvectors = np.linalg.eig(A_rotate)\n",
    "\n",
    "assert np.all(eigenvalues == np.array([0+1j, 0-1j]))\n",
    "print('All Tests Passed.')"
   ]
  },
  {
   "cell_type": "code",
   "execution_count": 34,
   "id": "6747b90a-4b04-4437-94f2-8c800db2b452",
   "metadata": {},
   "outputs": [
    {
     "name": "stdout",
     "output_type": "stream",
     "text": [
      "1 : A @ v =  [3.53553391 3.53553391]\n",
      "1 : λ * v =  [3.53553391 3.53553391]\n",
      "2 : A @ v =  [-0.89442719  1.78885438]\n",
      "2 : λ * v =  [-0.89442719  1.78885438]\n"
     ]
    }
   ],
   "source": [
    "A = np.array([\n",
    "    [4, 1],\n",
    "    [2, 3]\n",
    "])\n",
    "eigenvalues, eigenvectors = np.linalg.eig(A)\n",
    "\n",
    "for i in range(len(eigenvectors)):\n",
    "    v = eigenvectors[:, i]\n",
    "    λ = eigenvalues[i]\n",
    "    \n",
    "    print(i + 1, ': A @ v = ', A @ v)\n",
    "    print(i + 1, ': λ * v = ', λ * v)\n",
    "\n",
    "    assert np.allclose(A @ v, λ * v)"
   ]
  },
  {
   "cell_type": "code",
   "execution_count": null,
   "id": "2823bf97-0f6e-42f1-adc5-ca33c4d804be",
   "metadata": {},
   "outputs": [],
   "source": []
  }
 ],
 "metadata": {
  "kernelspec": {
   "display_name": "Python 3 (ipykernel)",
   "language": "python",
   "name": "python3"
  },
  "language_info": {
   "codemirror_mode": {
    "name": "ipython",
    "version": 3
   },
   "file_extension": ".py",
   "mimetype": "text/x-python",
   "name": "python",
   "nbconvert_exporter": "python",
   "pygments_lexer": "ipython3",
   "version": "3.8.16"
  }
 },
 "nbformat": 4,
 "nbformat_minor": 5
}
